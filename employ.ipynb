{
 "cells": [
  {
   "cell_type": "markdown",
   "id": "14732b5b",
   "metadata": {},
   "source": [
    "Importing Labraries\n"
   ]
  },
  {
   "cell_type": "code",
   "execution_count": 1,
   "id": "31873e87",
   "metadata": {},
   "outputs": [],
   "source": [
    "import pandas as pd\n"
   ]
  }
 ],
 "metadata": {
  "kernelspec": {
   "display_name": "Python 3",
   "language": "python",
   "name": "python3"
  },
  "language_info": {
   "codemirror_mode": {
    "name": "ipython",
    "version": 3
   },
   "file_extension": ".py",
   "mimetype": "text/x-python",
   "name": "python",
   "nbconvert_exporter": "python",
   "pygments_lexer": "ipython3",
   "version": "3.13.2"
  }
 },
 "nbformat": 4,
 "nbformat_minor": 5
}
